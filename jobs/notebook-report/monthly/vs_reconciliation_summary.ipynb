{
 "cells": [
  {
   "cell_type": "markdown",
   "metadata": {
    "collapsed": false,
    "editable": true,
    "jupyter": {
     "outputs_hidden": false
    },
    "slideshow": {
     "slide_type": ""
    },
    "tags": []
   },
   "source": [
    "# Reconciliation Monthly Stats"
   ]
  },
  {
   "cell_type": "markdown",
   "metadata": {
    "collapsed": false,
    "jupyter": {
     "outputs_hidden": false
    }
   },
   "source": [
    "We need to load in these libraries into our notebook in order to query, load, manipulate and view the data"
   ]
  },
  {
   "cell_type": "code",
   "execution_count": null,
   "metadata": {
    "collapsed": false,
    "editable": true,
    "jupyter": {
     "outputs_hidden": false
    },
    "pycharm": {
     "is_executing": false,
     "name": "#%%\n"
    },
    "slideshow": {
     "slide_type": ""
    },
    "tags": []
   },
   "outputs": [],
   "source": [
    "import os\n",
    "from datetime import datetime, timedelta\n",
    "from config import Config\n",
    "import requests\n",
    "\n",
    "%load_ext sql\n",
    "%config SqlMagic.displaylimit = 5"
   ]
  },
  {
   "cell_type": "markdown",
   "metadata": {
    "editable": true,
    "slideshow": {
     "slide_type": ""
    },
    "tags": [
     "parameters"
    ]
   },
   "source": [
    "# Parameters cell for external parameters via papermill (job running this notebook will insert a parameter cell below this). This cell has a tag of with the name \"parameters\" that is used by papermill\n",
    "\n",
    "e.g.\n",
    "param1 = \"some_value\""
   ]
  },
  {
   "cell_type": "markdown",
   "metadata": {
    "collapsed": false,
    "jupyter": {
     "outputs_hidden": false
    }
   },
   "source": [
    "This will create the connection to the database and prep the jupyter magic for SQL"
   ]
  },
  {
   "cell_type": "code",
   "execution_count": null,
   "metadata": {
    "collapsed": false,
    "editable": true,
    "jupyter": {
     "outputs_hidden": false
    },
    "pycharm": {
     "is_executing": false,
     "name": "#%%\n"
    },
    "slideshow": {
     "slide_type": ""
    },
    "tags": []
   },
   "outputs": [],
   "source": [
    "%sql $Config.SQLALCHEMY_DATABASE_URI"
   ]
  },
  {
   "cell_type": "markdown",
   "metadata": {
    "collapsed": false,
    "jupyter": {
     "outputs_hidden": false
    }
   },
   "source": [
    "Simplest query to run to ensure our libraries are loaded and our DB connection is working"
   ]
  },
  {
   "cell_type": "code",
   "execution_count": null,
   "metadata": {
    "collapsed": false,
    "jupyter": {
     "outputs_hidden": false
    },
    "pycharm": {
     "is_executing": false,
     "name": "#%%\n"
    }
   },
   "outputs": [],
   "source": [
    "%%sql\n",
    "set time zone 'UTC';"
   ]
  },
  {
   "cell_type": "markdown",
   "metadata": {},
   "source": [
    "Query ..."
   ]
  },
  {
   "cell_type": "code",
   "execution_count": null,
   "metadata": {
    "editable": true,
    "slideshow": {
     "slide_type": ""
    },
    "tags": []
   },
   "outputs": [],
   "source": [
    "%%sql monthly_reconciliation_summary  <<\n",
    "SELECT\n",
    "sum(pli.total)                    AS subtotal,\n",
    "sum(pli.service_fees)             AS service_fees,\n",
    "sum(pli.total + pli.service_fees) AS total,\n",
    "(i.payment_date AT TIME ZONE 'UTC' AT TIME ZONE 'America/Vancouver')::date,\n",
    "pli.description,\n",
    "i.payment_method_code,\n",
    "i.corp_type_code\n",
    "FROM invoices i\n",
    "JOIN payment_line_items pli ON i.id = pli.invoice_id\n",
    "WHERE i.corp_type_code = :partner_code\n",
    "AND i.invoice_status_code = 'PAID'\n",
    "AND i.payment_method_code IN ('PAD', 'EJV', 'DIRECT_PAY', 'DRAWDOWN')\n",
    "AND date(i.payment_date AT TIME ZONE 'UTC' AT TIME ZONE 'America/Vancouver') > date(current_date - 1 - interval '1 months')\n",
    "AND date(i.payment_date AT TIME ZONE 'UTC' AT TIME ZONE 'America/Vancouver') <= date(current_date - 1)\n",
    "GROUP BY (i.payment_date AT TIME ZONE 'UTC' AT TIME ZONE 'America/Vancouver')::date, i.payment_method_code, i.corp_type_code, pli.description\n",
    "ORDER BY (i.payment_date AT TIME ZONE 'UTC' AT TIME ZONE 'America/Vancouver')::date, pli.description, i.payment_method_code"
   ]
  },
  {
   "cell_type": "markdown",
   "metadata": {},
   "source": [
    "Save to CSV"
   ]
  },
  {
   "cell_type": "code",
   "execution_count": null,
   "metadata": {
    "editable": true,
    "slideshow": {
     "slide_type": ""
    },
    "tags": []
   },
   "outputs": [],
   "source": [
    "filename_summary = os.path.join(os.getcwd(), r'data/')+partner_code+'_monthly_reconciliation_summary_' + datetime.strftime(datetime.now()-timedelta(1), '%Y-%m') +'.csv'\n",
    "df_summary = monthly_reconciliation_summary.DataFrame()\n",
    "with open(filename_summary, 'w') as f:\n",
    "    f.write('Monthly Reconciliation Summary:\\n\\n')\n",
    "    if df_summary.empty:\n",
    "        f.write('No Data Retrieved')\n",
    "    else:\n",
    "        df_summary.to_csv(f, sep=',', encoding='utf-8', index=False)"
   ]
  },
  {
   "cell_type": "code",
   "execution_count": null,
   "metadata": {
    "editable": true,
    "slideshow": {
     "slide_type": ""
    },
    "tags": []
   },
   "outputs": [],
   "source": [
    "%%sql monthly_reconciliation_disbursed  <<\n",
    "SELECT count(*)                   AS transaction_count,\n",
    "sum(pli.total)                    AS sub_total,\n",
    "sum(pli.service_fees)             AS service_fees,\n",
    "sum(pli.total + pli.service_fees) AS total,\n",
    "(i.disbursement_date AT TIME ZONE 'UTC' AT TIME ZONE 'America/Vancouver')::date,\n",
    "pli.description,\n",
    "i.payment_method_code,\n",
    "i.corp_type_code\n",
    "FROM invoices i\n",
    "JOIN payment_line_items pli ON i.id = pli.invoice_id\n",
    "WHERE i.corp_type_code = 'VS'\n",
    "AND i.invoice_status_code = 'PAID'\n",
    "AND i.payment_method_code IN ('PAD', 'EJV', 'DIRECT_PAY')\n",
    "AND i.disbursement_status_code = 'COMPLETED'\n",
    "AND date(disbursement_date AT TIME ZONE 'UTC' AT TIME ZONE 'America/Vancouver') > date(current_date - 1 - interval '1 months')\n",
    "AND date(disbursement_date AT TIME ZONE 'UTC' AT TIME ZONE 'America/Vancouver') <= date(current_date - 1)\n",
    "GROUP BY (disbursement_date AT TIME ZONE 'UTC' AT TIME ZONE 'America/Vancouver')::date, payment_method_code, corp_type_code, pli.description\n",
    "ORDER BY (disbursement_date AT TIME ZONE 'UTC' AT TIME ZONE 'America/Vancouver')::date, pli.description, i.payment_method_code;"
   ]
  },
  {
   "cell_type": "markdown",
   "metadata": {},
   "source": [
    "Save to another CSV"
   ]
  },
  {
   "cell_type": "code",
   "execution_count": null,
   "metadata": {
    "editable": true,
    "slideshow": {
     "slide_type": ""
    },
    "tags": []
   },
   "outputs": [],
   "source": [
    "filename_disbursed = os.path.join(os.getcwd(), r'data/')+partner_code+'_monthly_reconciliation_disbursed_' + datetime.strftime(datetime.now()-timedelta(1), '%Y-%m') +'.csv'\n",
    "df_disbursed = monthly_reconciliation_disbursed.DataFrame()\n",
    "with open(filename_disbursed, 'a') as f:\n",
    "    f.write('Monthly Reconciliation Disbursed:\\n\\n')\n",
    "    if df_disbursed.empty:\n",
    "        f.write('No Data Retrieved')\n",
    "    else:\n",
    "        df_disbursed.to_csv(f, sep=',', encoding='utf-8', index=False)\n"
   ]
  },
  {
   "cell_type": "code",
   "execution_count": null,
   "metadata": {},
   "outputs": [],
   "source": [
    "# Get the API base URL from the environment variable\n",
    "API_BASE_URL = os.getenv('REPORT_API', '')\n",
    "if not API_BASE_URL:\n",
    "    raise ValueError(\"The REPORT_API environment variable is not set or is empty\")\n",
    "\n",
    "url = API_BASE_URL\n",
    "headers = {\n",
    "    'Authorization': 'Bearer your_jwt_token',\n",
    "    'Content-Type': 'application/json',\n",
    "    'Accept': 'application/pdf'\n",
    "}\n",
    "\n",
    "# SQL query\n",
    "query = \"\"\"\n",
    "SELECT\n",
    "    COUNT(*) AS transaction_count,\n",
    "    SUM(total) AS total,\n",
    "    TO_CHAR(DATE_TRUNC('month',current_date) - INTERVAL '1 month','Month') as month,\n",
    "    corp_type_code\n",
    "FROM \n",
    "    invoices\n",
    "WHERE \n",
    "    corp_type_code = :partner_code\n",
    "    AND invoice_status_code = 'PAID'\n",
    "    AND payment_method_code IN ('PAD', 'EJV')\n",
    "    AND DATE_TRUNC('month', created_on AT TIME ZONE 'UTC' AT TIME ZONE 'America/Vancouver') = DATE_TRUNC('month', current_date - INTERVAL '1 month')\n",
    "GROUP BY \n",
    "    corp_type_code\n",
    "ORDER BY \n",
    "    month;\n",
    "\"\"\"\n",
    "\n",
    "# Execute the SQL query and fetch results\n",
    "result = %sql $query\n",
    "\n",
    "# Print the result to verify\n",
    "print(result)\n",
    "\n",
    "# Check if the result is not None\n",
    "if result:\n",
    "    # Convert the result to a DataFrame\n",
    "    df = result.DataFrame()\n",
    "\n",
    "    # Rename columns to match the expected names in the template\n",
    "    df.rename(columns={\n",
    "        'corp_type_code': 'Registry',\n",
    "        'transaction_count': 'Trans_Counts',\n",
    "        'total': 'Amount'\n",
    "    }, inplace=True)\n",
    "\n",
    "    # Add a Symbol column with a dollar sign\n",
    "    df['Symbol'] = '$'\n",
    "\n",
    "    # Convert DataFrame to JSON-compatible format\n",
    "    table_rows = df.to_dict(orient='records')\n",
    "\n",
    "    # Get the current date\n",
    "    current_date = datetime.now().strftime(\"%B %d, %Y\")\n",
    "\n",
    "    # Define the request body\n",
    "    data = {\n",
    "        \"templateVars\": {\n",
    "            \"Date\": current_date,\n",
    "            \"Company_Name\": \"Vital Statistics Agency\",\n",
    "            \"Address_Line_1\": \"PO Box 9657, Stn Prov Govt\",\n",
    "            \"Address_Line_2\": \"\",\n",
    "            \"City\": \"VICTORIA\",\n",
    "            \"Province\": \"BC\",\n",
    "            \"Area_Code\": \"V8W 9P3\",\n",
    "            \"First_Name\": partner_code,\n",
    "            \"enter_month\": df['month'][0] if not df.empty else \"N/A\",\n",
    "            \"table_rows\": table_rows\n",
    "        },\n",
    "        \"templateName\": \"revenue_letter\",\n",
    "        \"reportName\": \"revenue_letter\"\n",
    "    }\n",
    "\n",
    "    # Send the POST request\n",
    "    response = requests.post(url, headers=headers, json=data)\n",
    "\n",
    "    # Check if the response is successful\n",
    "    if response.status_code == 200:\n",
    "        # Get the PDF content from the response\n",
    "        pdf_content = response.content\n",
    "        \n",
    "        # Save the PDF content to a file\n",
    "        with open(partner_code+'_revenue_letter.pdf', 'wb') as pdf_file:\n",
    "            pdf_file.write(pdf_content)\n",
    "        \n",
    "        print(\"PDF report saved successfully as 'payment_receipt.pdf'\")\n",
    "    else:\n",
    "        print('Failed to get the report:', response.text)\n",
    "else:\n",
    "    print('No results returned from the SQL query')"
   ]
  }
 ],
 "metadata": {
  "celltoolbar": "Tags",
  "kernelspec": {
   "display_name": "Python 3 (ipykernel)",
   "language": "python",
   "name": "python3"
  },
  "language_info": {
   "codemirror_mode": {
    "name": "ipython",
    "version": 3
   },
   "file_extension": ".py",
   "mimetype": "text/x-python",
   "name": "python",
   "nbconvert_exporter": "python",
   "pygments_lexer": "ipython3",
   "version": "3.11.4"
  },
  "pycharm": {
   "stem_cell": {
    "cell_type": "raw",
    "metadata": {
     "collapsed": false
    },
    "source": []
   }
  },
  "vscode": {
   "interpreter": {
    "hash": "fcb35bce15c55b4cacb5112e543368f86c7f98ed17acd45e6841ee83ed1df6e3"
   }
  }
 },
 "nbformat": 4,
 "nbformat_minor": 4
}
